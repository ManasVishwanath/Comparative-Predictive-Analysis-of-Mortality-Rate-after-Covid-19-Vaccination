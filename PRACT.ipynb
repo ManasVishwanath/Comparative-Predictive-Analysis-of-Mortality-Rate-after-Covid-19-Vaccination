{
 "cells": [
  {
   "cell_type": "code",
   "execution_count": 9,
   "id": "96d771f1",
   "metadata": {},
   "outputs": [],
   "source": [
    "import pandas as pd\n",
    "import numpy as np \n",
    "import matplotlib.pyplot as plt\n",
    "from sklearn import metrics\n",
    "import warnings \n",
    "warnings.filterwarnings('ignore')"
   ]
  },
  {
   "cell_type": "code",
   "execution_count": 10,
   "id": "0e145858",
   "metadata": {},
   "outputs": [],
   "source": [
    "d_t = pd.read_csv('train.csv')"
   ]
  },
  {
   "cell_type": "code",
   "execution_count": 11,
   "id": "8d2ee6ca",
   "metadata": {},
   "outputs": [],
   "source": [
    "df = d_t.replace(np.nan, 0)"
   ]
  },
  {
   "cell_type": "code",
   "execution_count": 12,
   "id": "f72432fb",
   "metadata": {},
   "outputs": [
    {
     "data": {
      "text/html": [
       "<div>\n",
       "<style scoped>\n",
       "    .dataframe tbody tr th:only-of-type {\n",
       "        vertical-align: middle;\n",
       "    }\n",
       "\n",
       "    .dataframe tbody tr th {\n",
       "        vertical-align: top;\n",
       "    }\n",
       "\n",
       "    .dataframe thead th {\n",
       "        text-align: right;\n",
       "    }\n",
       "</style>\n",
       "<table border=\"1\" class=\"dataframe\">\n",
       "  <thead>\n",
       "    <tr style=\"text-align: right;\">\n",
       "      <th></th>\n",
       "      <th>Id</th>\n",
       "      <th>Location</th>\n",
       "      <th>Cases</th>\n",
       "      <th>Year</th>\n",
       "      <th>Deaths</th>\n",
       "      <th>Mortality</th>\n",
       "      <th>Total_Vaccinations</th>\n",
       "      <th>Vaccinated</th>\n",
       "      <th>Fully_Vaccinated</th>\n",
       "    </tr>\n",
       "  </thead>\n",
       "  <tbody>\n",
       "    <tr>\n",
       "      <th>0</th>\n",
       "      <td>911530868</td>\n",
       "      <td>World</td>\n",
       "      <td>2372.0</td>\n",
       "      <td>2020</td>\n",
       "      <td>65.0</td>\n",
       "      <td>0.008</td>\n",
       "      <td>0.0</td>\n",
       "      <td>0.0</td>\n",
       "      <td>0.0</td>\n",
       "    </tr>\n",
       "    <tr>\n",
       "      <th>1</th>\n",
       "      <td>807936902</td>\n",
       "      <td>World</td>\n",
       "      <td>5023.0</td>\n",
       "      <td>2020</td>\n",
       "      <td>114.0</td>\n",
       "      <td>0.014</td>\n",
       "      <td>0.0</td>\n",
       "      <td>0.0</td>\n",
       "      <td>0.0</td>\n",
       "    </tr>\n",
       "    <tr>\n",
       "      <th>2</th>\n",
       "      <td>773590408</td>\n",
       "      <td>World</td>\n",
       "      <td>5612.0</td>\n",
       "      <td>2020</td>\n",
       "      <td>116.0</td>\n",
       "      <td>0.015</td>\n",
       "      <td>0.0</td>\n",
       "      <td>0.0</td>\n",
       "      <td>0.0</td>\n",
       "    </tr>\n",
       "    <tr>\n",
       "      <th>3</th>\n",
       "      <td>130466459</td>\n",
       "      <td>World</td>\n",
       "      <td>7580.0</td>\n",
       "      <td>2020</td>\n",
       "      <td>153.0</td>\n",
       "      <td>0.019</td>\n",
       "      <td>0.0</td>\n",
       "      <td>0.0</td>\n",
       "      <td>0.0</td>\n",
       "    </tr>\n",
       "    <tr>\n",
       "      <th>4</th>\n",
       "      <td>544040446</td>\n",
       "      <td>World</td>\n",
       "      <td>8983.0</td>\n",
       "      <td>2020</td>\n",
       "      <td>187.0</td>\n",
       "      <td>0.024</td>\n",
       "      <td>0.0</td>\n",
       "      <td>0.0</td>\n",
       "      <td>0.0</td>\n",
       "    </tr>\n",
       "    <tr>\n",
       "      <th>5</th>\n",
       "      <td>112222711</td>\n",
       "      <td>World</td>\n",
       "      <td>10601.0</td>\n",
       "      <td>2020</td>\n",
       "      <td>217.0</td>\n",
       "      <td>0.027</td>\n",
       "      <td>0.0</td>\n",
       "      <td>0.0</td>\n",
       "      <td>0.0</td>\n",
       "    </tr>\n",
       "  </tbody>\n",
       "</table>\n",
       "</div>"
      ],
      "text/plain": [
       "          Id Location    Cases  Year  Deaths  Mortality  Total_Vaccinations  \\\n",
       "0  911530868    World   2372.0  2020    65.0      0.008                 0.0   \n",
       "1  807936902    World   5023.0  2020   114.0      0.014                 0.0   \n",
       "2  773590408    World   5612.0  2020   116.0      0.015                 0.0   \n",
       "3  130466459    World   7580.0  2020   153.0      0.019                 0.0   \n",
       "4  544040446    World   8983.0  2020   187.0      0.024                 0.0   \n",
       "5  112222711    World  10601.0  2020   217.0      0.027                 0.0   \n",
       "\n",
       "   Vaccinated   Fully_Vaccinated  \n",
       "0         0.0                0.0  \n",
       "1         0.0                0.0  \n",
       "2         0.0                0.0  \n",
       "3         0.0                0.0  \n",
       "4         0.0                0.0  \n",
       "5         0.0                0.0  "
      ]
     },
     "execution_count": 12,
     "metadata": {},
     "output_type": "execute_result"
    }
   ],
   "source": [
    "df.head(6)\n",
    "#df.tail(5)"
   ]
  },
  {
   "cell_type": "code",
   "execution_count": 13,
   "id": "619e30f6",
   "metadata": {},
   "outputs": [
    {
     "data": {
      "text/plain": [
       "(129156, 9)"
      ]
     },
     "execution_count": 13,
     "metadata": {},
     "output_type": "execute_result"
    }
   ],
   "source": [
    "df.shape"
   ]
  },
  {
   "cell_type": "code",
   "execution_count": 14,
   "id": "54d41b13",
   "metadata": {},
   "outputs": [
    {
     "name": "stdout",
     "output_type": "stream",
     "text": [
      "Id                      int64\n",
      "Location               object\n",
      "Cases                 float64\n",
      "Year                    int64\n",
      "Deaths                float64\n",
      "Mortality             float64\n",
      "Total_Vaccinations    float64\n",
      "Vaccinated            float64\n",
      " Fully_Vaccinated     float64\n",
      "dtype: object\n"
     ]
    }
   ],
   "source": [
    "print(df.dtypes)"
   ]
  },
  {
   "cell_type": "code",
   "execution_count": 15,
   "id": "db2e7e29",
   "metadata": {},
   "outputs": [],
   "source": [
    "#df['Cases per Million'].value_counts()[0.0]"
   ]
  },
  {
   "cell_type": "code",
   "execution_count": 16,
   "id": "a0eb59f3",
   "metadata": {},
   "outputs": [
    {
     "name": "stdout",
     "output_type": "stream",
     "text": [
      "Index(['Id', 'Location', 'Cases', 'Year', 'Deaths', 'Mortality',\n",
      "       'Total_Vaccinations', 'Vaccinated', ' Fully_Vaccinated'],\n",
      "      dtype='object')\n"
     ]
    }
   ],
   "source": [
    "#df[' Fully Vaccinated'].\n",
    "print(df.columns)"
   ]
  },
  {
   "cell_type": "code",
   "execution_count": 17,
   "id": "ff5d1b6b",
   "metadata": {},
   "outputs": [],
   "source": [
    "# create a list of column names to check for 0.0 values\n",
    "cols_to_check = ['Vaccinated',' Fully_Vaccinated','Total_Vaccinations']\n",
    "\n",
    "# select the rows where any of the columns has a value of 0.0\n",
    "rows_to_delete = df[df[cols_to_check].isin([0.0])].dropna(how='all').index\n",
    "\n",
    "# drop the selected rows from the DataFrame\n",
    "df = df.drop(rows_to_delete)"
   ]
  },
  {
   "cell_type": "code",
   "execution_count": 18,
   "id": "9782e614",
   "metadata": {},
   "outputs": [],
   "source": [
    "def round_decimal(x):\n",
    "    decimal_part = x - int(x)\n",
    "    if decimal_part > 0.5:\n",
    "        return int(x) + 1\n",
    "    else:\n",
    "        return int(x)\n",
    "\n",
    "# apply the lambda function to the 'my_column' column\n",
    "df['Deaths'] = df['Deaths'].apply(lambda x: round_decimal(x))\n",
    "df['Mortality'] = df['Mortality'].apply(lambda x: round_decimal(x))\n",
    "df['Total_Vaccinations'] = df['Total_Vaccinations'].apply(lambda x: round_decimal(x))\n",
    "df['Vaccinated'] = df['Vaccinated'].apply(lambda x: round_decimal(x))\n",
    "df[' Fully_Vaccinated'] = df[' Fully_Vaccinated'].apply(lambda x: round_decimal(x))\n",
    "df['Cases'] = df['Cases'].apply(lambda x: round_decimal(x))\n"
   ]
  },
  {
   "cell_type": "code",
   "execution_count": 19,
   "id": "3413f08d",
   "metadata": {},
   "outputs": [
    {
     "data": {
      "text/html": [
       "<div>\n",
       "<style scoped>\n",
       "    .dataframe tbody tr th:only-of-type {\n",
       "        vertical-align: middle;\n",
       "    }\n",
       "\n",
       "    .dataframe tbody tr th {\n",
       "        vertical-align: top;\n",
       "    }\n",
       "\n",
       "    .dataframe thead th {\n",
       "        text-align: right;\n",
       "    }\n",
       "</style>\n",
       "<table border=\"1\" class=\"dataframe\">\n",
       "  <thead>\n",
       "    <tr style=\"text-align: right;\">\n",
       "      <th></th>\n",
       "      <th>Id</th>\n",
       "      <th>Location</th>\n",
       "      <th>Cases</th>\n",
       "      <th>Year</th>\n",
       "      <th>Deaths</th>\n",
       "      <th>Mortality</th>\n",
       "      <th>Total_Vaccinations</th>\n",
       "      <th>Vaccinated</th>\n",
       "      <th>Fully_Vaccinated</th>\n",
       "    </tr>\n",
       "  </thead>\n",
       "  <tbody>\n",
       "    <tr>\n",
       "      <th>231</th>\n",
       "      <td>888927956</td>\n",
       "      <td>World</td>\n",
       "      <td>4401227</td>\n",
       "      <td>2020</td>\n",
       "      <td>78095</td>\n",
       "      <td>10</td>\n",
       "      <td>35647</td>\n",
       "      <td>29152</td>\n",
       "      <td>7425</td>\n",
       "    </tr>\n",
       "    <tr>\n",
       "      <th>232</th>\n",
       "      <td>692158819</td>\n",
       "      <td>World</td>\n",
       "      <td>4417781</td>\n",
       "      <td>2020</td>\n",
       "      <td>78496</td>\n",
       "      <td>10</td>\n",
       "      <td>40330</td>\n",
       "      <td>33668</td>\n",
       "      <td>7565</td>\n",
       "    </tr>\n",
       "    <tr>\n",
       "      <th>233</th>\n",
       "      <td>235232640</td>\n",
       "      <td>World</td>\n",
       "      <td>4487887</td>\n",
       "      <td>2020</td>\n",
       "      <td>80910</td>\n",
       "      <td>10</td>\n",
       "      <td>1779065</td>\n",
       "      <td>266515</td>\n",
       "      <td>8318</td>\n",
       "    </tr>\n",
       "    <tr>\n",
       "      <th>234</th>\n",
       "      <td>915746346</td>\n",
       "      <td>World</td>\n",
       "      <td>4554209</td>\n",
       "      <td>2020</td>\n",
       "      <td>81609</td>\n",
       "      <td>10</td>\n",
       "      <td>2057367</td>\n",
       "      <td>538177</td>\n",
       "      <td>9091</td>\n",
       "    </tr>\n",
       "    <tr>\n",
       "      <th>235</th>\n",
       "      <td>805449786</td>\n",
       "      <td>World</td>\n",
       "      <td>4555265</td>\n",
       "      <td>2020</td>\n",
       "      <td>81866</td>\n",
       "      <td>10</td>\n",
       "      <td>2664507</td>\n",
       "      <td>1132176</td>\n",
       "      <td>11428</td>\n",
       "    </tr>\n",
       "    <tr>\n",
       "      <th>...</th>\n",
       "      <td>...</td>\n",
       "      <td>...</td>\n",
       "      <td>...</td>\n",
       "      <td>...</td>\n",
       "      <td>...</td>\n",
       "      <td>...</td>\n",
       "      <td>...</td>\n",
       "      <td>...</td>\n",
       "      <td>...</td>\n",
       "    </tr>\n",
       "    <tr>\n",
       "      <th>129149</th>\n",
       "      <td>737286942</td>\n",
       "      <td>Zimbabwe</td>\n",
       "      <td>554</td>\n",
       "      <td>2022</td>\n",
       "      <td>15</td>\n",
       "      <td>1</td>\n",
       "      <td>11945534</td>\n",
       "      <td>6296280</td>\n",
       "      <td>4599476</td>\n",
       "    </tr>\n",
       "    <tr>\n",
       "      <th>129151</th>\n",
       "      <td>541829605</td>\n",
       "      <td>Zimbabwe</td>\n",
       "      <td>464</td>\n",
       "      <td>2022</td>\n",
       "      <td>13</td>\n",
       "      <td>1</td>\n",
       "      <td>11949993</td>\n",
       "      <td>6297324</td>\n",
       "      <td>4601845</td>\n",
       "    </tr>\n",
       "    <tr>\n",
       "      <th>129152</th>\n",
       "      <td>969939474</td>\n",
       "      <td>Zimbabwe</td>\n",
       "      <td>471</td>\n",
       "      <td>2022</td>\n",
       "      <td>12</td>\n",
       "      <td>1</td>\n",
       "      <td>11958771</td>\n",
       "      <td>6299348</td>\n",
       "      <td>4605821</td>\n",
       "    </tr>\n",
       "    <tr>\n",
       "      <th>129154</th>\n",
       "      <td>961193720</td>\n",
       "      <td>Zimbabwe</td>\n",
       "      <td>277</td>\n",
       "      <td>2022</td>\n",
       "      <td>6</td>\n",
       "      <td>0</td>\n",
       "      <td>11974313</td>\n",
       "      <td>6305470</td>\n",
       "      <td>4611113</td>\n",
       "    </tr>\n",
       "    <tr>\n",
       "      <th>129155</th>\n",
       "      <td>832612563</td>\n",
       "      <td>Zimbabwe</td>\n",
       "      <td>277</td>\n",
       "      <td>2022</td>\n",
       "      <td>6</td>\n",
       "      <td>0</td>\n",
       "      <td>11984914</td>\n",
       "      <td>6310089</td>\n",
       "      <td>4614738</td>\n",
       "    </tr>\n",
       "  </tbody>\n",
       "</table>\n",
       "<p>35220 rows × 9 columns</p>\n",
       "</div>"
      ],
      "text/plain": [
       "               Id  Location    Cases  Year  Deaths  Mortality  \\\n",
       "231     888927956     World  4401227  2020   78095         10   \n",
       "232     692158819     World  4417781  2020   78496         10   \n",
       "233     235232640     World  4487887  2020   80910         10   \n",
       "234     915746346     World  4554209  2020   81609         10   \n",
       "235     805449786     World  4555265  2020   81866         10   \n",
       "...           ...       ...      ...   ...     ...        ...   \n",
       "129149  737286942  Zimbabwe      554  2022      15          1   \n",
       "129151  541829605  Zimbabwe      464  2022      13          1   \n",
       "129152  969939474  Zimbabwe      471  2022      12          1   \n",
       "129154  961193720  Zimbabwe      277  2022       6          0   \n",
       "129155  832612563  Zimbabwe      277  2022       6          0   \n",
       "\n",
       "        Total_Vaccinations  Vaccinated   Fully_Vaccinated  \n",
       "231                  35647       29152               7425  \n",
       "232                  40330       33668               7565  \n",
       "233                1779065      266515               8318  \n",
       "234                2057367      538177               9091  \n",
       "235                2664507     1132176              11428  \n",
       "...                    ...         ...                ...  \n",
       "129149            11945534     6296280            4599476  \n",
       "129151            11949993     6297324            4601845  \n",
       "129152            11958771     6299348            4605821  \n",
       "129154            11974313     6305470            4611113  \n",
       "129155            11984914     6310089            4614738  \n",
       "\n",
       "[35220 rows x 9 columns]"
      ]
     },
     "execution_count": 19,
     "metadata": {},
     "output_type": "execute_result"
    }
   ],
   "source": [
    "df"
   ]
  },
  {
   "cell_type": "code",
   "execution_count": 20,
   "id": "b6d7081a",
   "metadata": {},
   "outputs": [
    {
     "data": {
      "text/plain": [
       "(35220, 5)"
      ]
     },
     "execution_count": 20,
     "metadata": {},
     "output_type": "execute_result"
    }
   ],
   "source": [
    "x = df[['Cases','Deaths','Total_Vaccinations','Vaccinated',' Fully_Vaccinated']]\n",
    "x.shape"
   ]
  },
  {
   "cell_type": "code",
   "execution_count": 21,
   "id": "ae47ddcd",
   "metadata": {},
   "outputs": [
    {
     "data": {
      "text/plain": [
       "(35220, 1)"
      ]
     },
     "execution_count": 21,
     "metadata": {},
     "output_type": "execute_result"
    }
   ],
   "source": [
    "y = df[['Mortality']]\n",
    "shape = y.shape\n",
    "shape"
   ]
  },
  {
   "cell_type": "code",
   "execution_count": 22,
   "id": "64b66e35",
   "metadata": {},
   "outputs": [
    {
     "data": {
      "text/plain": [
       "(35220, 5)"
      ]
     },
     "execution_count": 22,
     "metadata": {},
     "output_type": "execute_result"
    }
   ],
   "source": [
    "x_a=np.array(x)\n",
    "y_b=np.array(y)\n",
    "x_a.shape"
   ]
  },
  {
   "cell_type": "code",
   "execution_count": 23,
   "id": "d4d3a9d0",
   "metadata": {},
   "outputs": [],
   "source": [
    "from sklearn.model_selection import train_test_split\n",
    "x_train, x_test, y_train, y_test = train_test_split(x_a,y_b, test_size = 0.2, random_state=42)"
   ]
  },
  {
   "cell_type": "code",
   "execution_count": 24,
   "id": "b26e5121",
   "metadata": {},
   "outputs": [
    {
     "data": {
      "text/plain": [
       "(7044, 1)"
      ]
     },
     "execution_count": 24,
     "metadata": {},
     "output_type": "execute_result"
    }
   ],
   "source": [
    "x_test.shape\n",
    "y_test.shape"
   ]
  },
  {
   "cell_type": "code",
   "execution_count": 25,
   "id": "75bd7c04",
   "metadata": {},
   "outputs": [],
   "source": [
    "# from sklearn.ensemble import RandomForestClassifier\n",
    "# #from sklearn.ensemble import RandomForestRegressor\n",
    "# #from sklearn.tree import DecisionTreeClassifier\n",
    "# #from sklearn.tree import DecisionTreeRegressor\n",
    "# #from sklearn.linear_model import LogisticRegression\n",
    "# #from sklearn.linear_model import LinearRegression\n",
    "# #from sklearn.svm import SVC\n",
    "# #from sklearn.svm import SVR\n",
    "# #from xgboost import XGBRegressor\n",
    "# #from xgboost import XGBClassifier\n",
    "# #from sklearn.ensemble import AdaBoostClassifier\n",
    "# #from sklearn.ensemble import GradientBoostingRegressor\n",
    "# #from sklearn.ensemble import GradientBoostingClassifier\n",
    "# #from sklearn.neighbors import KNeighborsRegressor\n",
    "# #from sklearn.cluster import KMeans  \n",
    "# from sklearn.model_selection import GridSearchCV"
   ]
  },
  {
   "cell_type": "code",
   "execution_count": 26,
   "id": "e93ac5fc",
   "metadata": {
    "scrolled": true
   },
   "outputs": [],
   "source": [
    "# forest= RandomForestClassifier()\n",
    "# # param_grid = {\n",
    "# #     'n_neighbors': [3, 5, 7],\n",
    "# #     'weights': ['uniform', 'distance'],\n",
    "# #     'metric': ['euclidean', 'manhattan']\n",
    "# # }\n",
    "# # forest = GridSearchCV(forest, param_grid, cv=5, scoring='accuracy')\n",
    "# # forest = KMeans(n_clusters=4, random_state= 42)  \n",
    "\n",
    "# forest.fit(x_train,y_train)\n",
    "\n"
   ]
  },
  {
   "cell_type": "code",
   "execution_count": 27,
   "id": "7bedf29d",
   "metadata": {
    "scrolled": true
   },
   "outputs": [],
   "source": [
    "# from sklearn.model_selection import GridSearchCV\n",
    "# from sklearn.ensemble import RandomForestClassifier\n",
    "\n",
    "# # Create a random forest classifier\n",
    "# forest = RandomForestClassifier(random_state=42)\n",
    "\n",
    "# # Define the hyperparameters to be tuned and their possible values\n",
    "# param_grid = {\n",
    "#     'n_estimators': [50, 100, 150],\n",
    "#     'max_depth': [10, 20, 30],\n",
    "#     'min_samples_split': [2, 5, 10],\n",
    "#     'min_samples_leaf': [1, 2, 4]\n",
    "# }\n",
    "\n",
    "# # Create a grid search object\n",
    "# forest = GridSearchCV(forest, param_grid, cv=5, n_jobs=-1)\n",
    "\n",
    "# # Fit the grid search object to the data\n",
    "# forest.fit(x_train, y_train)"
   ]
  },
  {
   "cell_type": "code",
   "execution_count": 28,
   "id": "119edbf2",
   "metadata": {},
   "outputs": [],
   "source": [
    "# from sklearn.ensemble import RandomForestClassifier, VotingClassifier\n",
    "# from sklearn.metrics import accuracy_score\n",
    "# rfc1 = RandomForestClassifier(n_estimators=100, max_depth=5, random_state=42)\n",
    "# rfc2 = RandomForestClassifier(n_estimators=50, max_depth=3, random_state=42)\n",
    "# rfc3 = RandomForestClassifier(n_estimators=200, max_depth=7, random_state=42)\n",
    "# forest = VotingClassifier(estimators=[('rfc1', rfc1), ('rfc2', rfc2), ('rfc3', rfc3)], voting='hard')"
   ]
  },
  {
   "cell_type": "code",
   "execution_count": 29,
   "id": "7f90820e",
   "metadata": {},
   "outputs": [],
   "source": [
    " forest.fit(x_train, y_train)\n",
    " y_pred = forest.predict(x_test)\n",
    " accuracy = accuracy_score(y_test, y_pred)\n",
    "# print(\"Accuracy:\", accuracy)"
   ]
  },
  {
   "cell_type": "code",
   "execution_count": 30,
   "id": "f8e35fa9",
   "metadata": {},
   "outputs": [
    {
     "ename": "NotFittedError",
     "evalue": "This RandomForestClassifier instance is not fitted yet. Call 'fit' with appropriate arguments before using this estimator.",
     "output_type": "error",
     "traceback": [
      "\u001b[1;31m---------------------------------------------------------------------------\u001b[0m",
      "\u001b[1;31mNotFittedError\u001b[0m                            Traceback (most recent call last)",
      "Cell \u001b[1;32mIn[30], line 1\u001b[0m\n\u001b[1;32m----> 1\u001b[0m \u001b[38;5;28mprint\u001b[39m(\u001b[38;5;124m\"\u001b[39m\u001b[38;5;124mTRAIN  accuracy_score:\u001b[39m\u001b[38;5;124m\"\u001b[39m, \u001b[43mforest\u001b[49m\u001b[38;5;241;43m.\u001b[39;49m\u001b[43mscore\u001b[49m\u001b[43m(\u001b[49m\u001b[43mx_train\u001b[49m\u001b[43m,\u001b[49m\u001b[43my_train\u001b[49m\u001b[43m)\u001b[49m\u001b[38;5;241m*\u001b[39m\u001b[38;5;241m100\u001b[39m)\n",
      "File \u001b[1;32m~\\anaconda3\\lib\\site-packages\\sklearn\\base.py:651\u001b[0m, in \u001b[0;36mClassifierMixin.score\u001b[1;34m(self, X, y, sample_weight)\u001b[0m\n\u001b[0;32m    626\u001b[0m \u001b[38;5;250m\u001b[39m\u001b[38;5;124;03m\"\"\"\u001b[39;00m\n\u001b[0;32m    627\u001b[0m \u001b[38;5;124;03mReturn the mean accuracy on the given test data and labels.\u001b[39;00m\n\u001b[0;32m    628\u001b[0m \n\u001b[1;32m   (...)\u001b[0m\n\u001b[0;32m    647\u001b[0m \u001b[38;5;124;03m    Mean accuracy of ``self.predict(X)`` wrt. `y`.\u001b[39;00m\n\u001b[0;32m    648\u001b[0m \u001b[38;5;124;03m\"\"\"\u001b[39;00m\n\u001b[0;32m    649\u001b[0m \u001b[38;5;28;01mfrom\u001b[39;00m \u001b[38;5;21;01m.\u001b[39;00m\u001b[38;5;21;01mmetrics\u001b[39;00m \u001b[38;5;28;01mimport\u001b[39;00m accuracy_score\n\u001b[1;32m--> 651\u001b[0m \u001b[38;5;28;01mreturn\u001b[39;00m accuracy_score(y, \u001b[38;5;28;43mself\u001b[39;49m\u001b[38;5;241;43m.\u001b[39;49m\u001b[43mpredict\u001b[49m\u001b[43m(\u001b[49m\u001b[43mX\u001b[49m\u001b[43m)\u001b[49m, sample_weight\u001b[38;5;241m=\u001b[39msample_weight)\n",
      "File \u001b[1;32m~\\anaconda3\\lib\\site-packages\\sklearn\\ensemble\\_forest.py:808\u001b[0m, in \u001b[0;36mForestClassifier.predict\u001b[1;34m(self, X)\u001b[0m\n\u001b[0;32m    787\u001b[0m \u001b[38;5;28;01mdef\u001b[39;00m \u001b[38;5;21mpredict\u001b[39m(\u001b[38;5;28mself\u001b[39m, X):\n\u001b[0;32m    788\u001b[0m \u001b[38;5;250m    \u001b[39m\u001b[38;5;124;03m\"\"\"\u001b[39;00m\n\u001b[0;32m    789\u001b[0m \u001b[38;5;124;03m    Predict class for X.\u001b[39;00m\n\u001b[0;32m    790\u001b[0m \n\u001b[1;32m   (...)\u001b[0m\n\u001b[0;32m    806\u001b[0m \u001b[38;5;124;03m        The predicted classes.\u001b[39;00m\n\u001b[0;32m    807\u001b[0m \u001b[38;5;124;03m    \"\"\"\u001b[39;00m\n\u001b[1;32m--> 808\u001b[0m     proba \u001b[38;5;241m=\u001b[39m \u001b[38;5;28;43mself\u001b[39;49m\u001b[38;5;241;43m.\u001b[39;49m\u001b[43mpredict_proba\u001b[49m\u001b[43m(\u001b[49m\u001b[43mX\u001b[49m\u001b[43m)\u001b[49m\n\u001b[0;32m    810\u001b[0m     \u001b[38;5;28;01mif\u001b[39;00m \u001b[38;5;28mself\u001b[39m\u001b[38;5;241m.\u001b[39mn_outputs_ \u001b[38;5;241m==\u001b[39m \u001b[38;5;241m1\u001b[39m:\n\u001b[0;32m    811\u001b[0m         \u001b[38;5;28;01mreturn\u001b[39;00m \u001b[38;5;28mself\u001b[39m\u001b[38;5;241m.\u001b[39mclasses_\u001b[38;5;241m.\u001b[39mtake(np\u001b[38;5;241m.\u001b[39margmax(proba, axis\u001b[38;5;241m=\u001b[39m\u001b[38;5;241m1\u001b[39m), axis\u001b[38;5;241m=\u001b[39m\u001b[38;5;241m0\u001b[39m)\n",
      "File \u001b[1;32m~\\anaconda3\\lib\\site-packages\\sklearn\\ensemble\\_forest.py:848\u001b[0m, in \u001b[0;36mForestClassifier.predict_proba\u001b[1;34m(self, X)\u001b[0m\n\u001b[0;32m    826\u001b[0m \u001b[38;5;28;01mdef\u001b[39;00m \u001b[38;5;21mpredict_proba\u001b[39m(\u001b[38;5;28mself\u001b[39m, X):\n\u001b[0;32m    827\u001b[0m \u001b[38;5;250m    \u001b[39m\u001b[38;5;124;03m\"\"\"\u001b[39;00m\n\u001b[0;32m    828\u001b[0m \u001b[38;5;124;03m    Predict class probabilities for X.\u001b[39;00m\n\u001b[0;32m    829\u001b[0m \n\u001b[1;32m   (...)\u001b[0m\n\u001b[0;32m    846\u001b[0m \u001b[38;5;124;03m        classes corresponds to that in the attribute :term:`classes_`.\u001b[39;00m\n\u001b[0;32m    847\u001b[0m \u001b[38;5;124;03m    \"\"\"\u001b[39;00m\n\u001b[1;32m--> 848\u001b[0m     \u001b[43mcheck_is_fitted\u001b[49m\u001b[43m(\u001b[49m\u001b[38;5;28;43mself\u001b[39;49m\u001b[43m)\u001b[49m\n\u001b[0;32m    849\u001b[0m     \u001b[38;5;66;03m# Check data\u001b[39;00m\n\u001b[0;32m    850\u001b[0m     X \u001b[38;5;241m=\u001b[39m \u001b[38;5;28mself\u001b[39m\u001b[38;5;241m.\u001b[39m_validate_X_predict(X)\n",
      "File \u001b[1;32m~\\anaconda3\\lib\\site-packages\\sklearn\\utils\\validation.py:1222\u001b[0m, in \u001b[0;36mcheck_is_fitted\u001b[1;34m(estimator, attributes, msg, all_or_any)\u001b[0m\n\u001b[0;32m   1217\u001b[0m     fitted \u001b[38;5;241m=\u001b[39m [\n\u001b[0;32m   1218\u001b[0m         v \u001b[38;5;28;01mfor\u001b[39;00m v \u001b[38;5;129;01min\u001b[39;00m \u001b[38;5;28mvars\u001b[39m(estimator) \u001b[38;5;28;01mif\u001b[39;00m v\u001b[38;5;241m.\u001b[39mendswith(\u001b[38;5;124m\"\u001b[39m\u001b[38;5;124m_\u001b[39m\u001b[38;5;124m\"\u001b[39m) \u001b[38;5;129;01mand\u001b[39;00m \u001b[38;5;129;01mnot\u001b[39;00m v\u001b[38;5;241m.\u001b[39mstartswith(\u001b[38;5;124m\"\u001b[39m\u001b[38;5;124m__\u001b[39m\u001b[38;5;124m\"\u001b[39m)\n\u001b[0;32m   1219\u001b[0m     ]\n\u001b[0;32m   1221\u001b[0m \u001b[38;5;28;01mif\u001b[39;00m \u001b[38;5;129;01mnot\u001b[39;00m fitted:\n\u001b[1;32m-> 1222\u001b[0m     \u001b[38;5;28;01mraise\u001b[39;00m NotFittedError(msg \u001b[38;5;241m%\u001b[39m {\u001b[38;5;124m\"\u001b[39m\u001b[38;5;124mname\u001b[39m\u001b[38;5;124m\"\u001b[39m: \u001b[38;5;28mtype\u001b[39m(estimator)\u001b[38;5;241m.\u001b[39m\u001b[38;5;18m__name__\u001b[39m})\n",
      "\u001b[1;31mNotFittedError\u001b[0m: This RandomForestClassifier instance is not fitted yet. Call 'fit' with appropriate arguments before using this estimator."
     ]
    }
   ],
   "source": [
    "\n",
    "print(\"TRAIN  accuracy_score:\", forest.score(x_train,y_train)*100)"
   ]
  },
  {
   "cell_type": "code",
   "execution_count": null,
   "id": "3686fcd4",
   "metadata": {},
   "outputs": [],
   "source": [
    "y_pred = forest.predict(x_test)\n",
    "print(y_pred)\n",
    "#x_test.shape"
   ]
  },
  {
   "cell_type": "code",
   "execution_count": null,
   "id": "89fa5bf9",
   "metadata": {},
   "outputs": [],
   "source": [
    "print(\"TEST accuracy_score:\", accuracy_score(y_pred,y_test)*100)"
   ]
  },
  {
   "cell_type": "code",
   "execution_count": null,
   "id": "11165a36",
   "metadata": {},
   "outputs": [],
   "source": [
    "# # from sklearn.metrics import mean_squared_error\n",
    "\n",
    "# y_pred = forest.predict(x_test)\n",
    "# # mse = mean_squared_error(y_test, y_pred)\n",
    "# # print(\"Mean Squared Error:\", mse)"
   ]
  },
  {
   "cell_type": "code",
   "execution_count": null,
   "id": "94b0cf1e",
   "metadata": {},
   "outputs": [],
   "source": [
    "from sklearn.metrics import confusion_matrix\n",
    "cf_matrix = confusion_matrix(y_pred,y_test)\n",
    "print(cf_matrix)"
   ]
  },
  {
   "cell_type": "code",
   "execution_count": null,
   "id": "16fa7ef5",
   "metadata": {},
   "outputs": [],
   "source": [
    "from sklearn.metrics import classification_report\n",
    "cls_rp =(classification_report(y_test,y_pred)*100)\n",
    "print(cls_rp)"
   ]
  },
  {
   "cell_type": "code",
   "execution_count": null,
   "id": "6d5620b6",
   "metadata": {},
   "outputs": [],
   "source": []
  },
  {
   "cell_type": "code",
   "execution_count": null,
   "id": "76ed80f6",
   "metadata": {},
   "outputs": [],
   "source": []
  },
  {
   "cell_type": "code",
   "execution_count": null,
   "id": "575dd3c8",
   "metadata": {},
   "outputs": [],
   "source": []
  },
  {
   "cell_type": "code",
   "execution_count": null,
   "id": "54ff9f3d",
   "metadata": {},
   "outputs": [],
   "source": []
  },
  {
   "cell_type": "code",
   "execution_count": null,
   "id": "976963bf",
   "metadata": {},
   "outputs": [],
   "source": []
  },
  {
   "cell_type": "code",
   "execution_count": null,
   "id": "7e32f0fa",
   "metadata": {},
   "outputs": [],
   "source": []
  },
  {
   "cell_type": "code",
   "execution_count": null,
   "id": "a99a8bfc",
   "metadata": {},
   "outputs": [],
   "source": []
  },
  {
   "cell_type": "code",
   "execution_count": null,
   "id": "01a4b7f9",
   "metadata": {},
   "outputs": [],
   "source": []
  },
  {
   "cell_type": "code",
   "execution_count": null,
   "id": "e6337a37",
   "metadata": {},
   "outputs": [],
   "source": []
  },
  {
   "cell_type": "code",
   "execution_count": null,
   "id": "e3bd2cba",
   "metadata": {},
   "outputs": [],
   "source": []
  }
 ],
 "metadata": {
  "kernelspec": {
   "display_name": "Python 3 (ipykernel)",
   "language": "python",
   "name": "python3"
  },
  "language_info": {
   "codemirror_mode": {
    "name": "ipython",
    "version": 3
   },
   "file_extension": ".py",
   "mimetype": "text/x-python",
   "name": "python",
   "nbconvert_exporter": "python",
   "pygments_lexer": "ipython3",
   "version": "3.8.18"
  }
 },
 "nbformat": 4,
 "nbformat_minor": 5
}
