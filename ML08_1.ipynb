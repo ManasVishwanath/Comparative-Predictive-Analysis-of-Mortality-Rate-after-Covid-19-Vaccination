{
 "cells": [
  {
   "cell_type": "code",
   "execution_count": 88,
   "id": "1e668031",
   "metadata": {},
   "outputs": [],
   "source": [
    "import pandas as pd\n",
    "import numpy as np \n",
    "import matplotlib.pyplot as plt\n",
    "from sklearn import metrics\n",
    "import warnings \n",
    "warnings.filterwarnings('ignore')"
   ]
  },
  {
   "cell_type": "code",
   "execution_count": 89,
   "id": "b7436cdd",
   "metadata": {},
   "outputs": [],
   "source": [
    "d_t = pd.read_csv('train.csv')"
   ]
  },
  {
   "cell_type": "code",
   "execution_count": 90,
   "id": "44af2981",
   "metadata": {},
   "outputs": [
    {
     "data": {
      "text/html": [
       "<div>\n",
       "<style scoped>\n",
       "    .dataframe tbody tr th:only-of-type {\n",
       "        vertical-align: middle;\n",
       "    }\n",
       "\n",
       "    .dataframe tbody tr th {\n",
       "        vertical-align: top;\n",
       "    }\n",
       "\n",
       "    .dataframe thead th {\n",
       "        text-align: right;\n",
       "    }\n",
       "</style>\n",
       "<table border=\"1\" class=\"dataframe\">\n",
       "  <thead>\n",
       "    <tr style=\"text-align: right;\">\n",
       "      <th></th>\n",
       "      <th>Id</th>\n",
       "      <th>Location</th>\n",
       "      <th>Cases</th>\n",
       "      <th>Year</th>\n",
       "      <th>Deaths</th>\n",
       "      <th>Mortality</th>\n",
       "      <th>Total_Vaccinations</th>\n",
       "      <th>Vaccinated</th>\n",
       "      <th>Fully_Vaccinated</th>\n",
       "    </tr>\n",
       "  </thead>\n",
       "  <tbody>\n",
       "    <tr>\n",
       "      <th>0</th>\n",
       "      <td>911530868</td>\n",
       "      <td>World</td>\n",
       "      <td>2372.0</td>\n",
       "      <td>2020</td>\n",
       "      <td>65.0</td>\n",
       "      <td>0.008</td>\n",
       "      <td>NaN</td>\n",
       "      <td>NaN</td>\n",
       "      <td>NaN</td>\n",
       "    </tr>\n",
       "    <tr>\n",
       "      <th>1</th>\n",
       "      <td>807936902</td>\n",
       "      <td>World</td>\n",
       "      <td>5023.0</td>\n",
       "      <td>2020</td>\n",
       "      <td>114.0</td>\n",
       "      <td>0.014</td>\n",
       "      <td>NaN</td>\n",
       "      <td>NaN</td>\n",
       "      <td>NaN</td>\n",
       "    </tr>\n",
       "    <tr>\n",
       "      <th>2</th>\n",
       "      <td>773590408</td>\n",
       "      <td>World</td>\n",
       "      <td>5612.0</td>\n",
       "      <td>2020</td>\n",
       "      <td>116.0</td>\n",
       "      <td>0.015</td>\n",
       "      <td>NaN</td>\n",
       "      <td>NaN</td>\n",
       "      <td>NaN</td>\n",
       "    </tr>\n",
       "    <tr>\n",
       "      <th>3</th>\n",
       "      <td>130466459</td>\n",
       "      <td>World</td>\n",
       "      <td>7580.0</td>\n",
       "      <td>2020</td>\n",
       "      <td>153.0</td>\n",
       "      <td>0.019</td>\n",
       "      <td>NaN</td>\n",
       "      <td>NaN</td>\n",
       "      <td>NaN</td>\n",
       "    </tr>\n",
       "    <tr>\n",
       "      <th>4</th>\n",
       "      <td>544040446</td>\n",
       "      <td>World</td>\n",
       "      <td>8983.0</td>\n",
       "      <td>2020</td>\n",
       "      <td>187.0</td>\n",
       "      <td>0.024</td>\n",
       "      <td>NaN</td>\n",
       "      <td>NaN</td>\n",
       "      <td>NaN</td>\n",
       "    </tr>\n",
       "    <tr>\n",
       "      <th>...</th>\n",
       "      <td>...</td>\n",
       "      <td>...</td>\n",
       "      <td>...</td>\n",
       "      <td>...</td>\n",
       "      <td>...</td>\n",
       "      <td>...</td>\n",
       "      <td>...</td>\n",
       "      <td>...</td>\n",
       "      <td>...</td>\n",
       "    </tr>\n",
       "    <tr>\n",
       "      <th>129151</th>\n",
       "      <td>541829605</td>\n",
       "      <td>Zimbabwe</td>\n",
       "      <td>464.0</td>\n",
       "      <td>2022</td>\n",
       "      <td>13.0</td>\n",
       "      <td>0.813</td>\n",
       "      <td>11949993.0</td>\n",
       "      <td>6297324.0</td>\n",
       "      <td>4601845.0</td>\n",
       "    </tr>\n",
       "    <tr>\n",
       "      <th>129152</th>\n",
       "      <td>969939474</td>\n",
       "      <td>Zimbabwe</td>\n",
       "      <td>471.0</td>\n",
       "      <td>2022</td>\n",
       "      <td>12.0</td>\n",
       "      <td>0.750</td>\n",
       "      <td>11958771.0</td>\n",
       "      <td>6299348.0</td>\n",
       "      <td>4605821.0</td>\n",
       "    </tr>\n",
       "    <tr>\n",
       "      <th>129153</th>\n",
       "      <td>667902340</td>\n",
       "      <td>Zimbabwe</td>\n",
       "      <td>450.0</td>\n",
       "      <td>2022</td>\n",
       "      <td>13.0</td>\n",
       "      <td>0.813</td>\n",
       "      <td>NaN</td>\n",
       "      <td>NaN</td>\n",
       "      <td>NaN</td>\n",
       "    </tr>\n",
       "    <tr>\n",
       "      <th>129154</th>\n",
       "      <td>961193720</td>\n",
       "      <td>Zimbabwe</td>\n",
       "      <td>277.0</td>\n",
       "      <td>2022</td>\n",
       "      <td>6.0</td>\n",
       "      <td>0.375</td>\n",
       "      <td>11974313.0</td>\n",
       "      <td>6305470.0</td>\n",
       "      <td>4611113.0</td>\n",
       "    </tr>\n",
       "    <tr>\n",
       "      <th>129155</th>\n",
       "      <td>832612563</td>\n",
       "      <td>Zimbabwe</td>\n",
       "      <td>277.0</td>\n",
       "      <td>2022</td>\n",
       "      <td>6.0</td>\n",
       "      <td>0.375</td>\n",
       "      <td>11984914.0</td>\n",
       "      <td>6310089.0</td>\n",
       "      <td>4614738.0</td>\n",
       "    </tr>\n",
       "  </tbody>\n",
       "</table>\n",
       "<p>129156 rows × 9 columns</p>\n",
       "</div>"
      ],
      "text/plain": [
       "               Id  Location   Cases  Year  Deaths  Mortality  \\\n",
       "0       911530868     World  2372.0  2020    65.0      0.008   \n",
       "1       807936902     World  5023.0  2020   114.0      0.014   \n",
       "2       773590408     World  5612.0  2020   116.0      0.015   \n",
       "3       130466459     World  7580.0  2020   153.0      0.019   \n",
       "4       544040446     World  8983.0  2020   187.0      0.024   \n",
       "...           ...       ...     ...   ...     ...        ...   \n",
       "129151  541829605  Zimbabwe   464.0  2022    13.0      0.813   \n",
       "129152  969939474  Zimbabwe   471.0  2022    12.0      0.750   \n",
       "129153  667902340  Zimbabwe   450.0  2022    13.0      0.813   \n",
       "129154  961193720  Zimbabwe   277.0  2022     6.0      0.375   \n",
       "129155  832612563  Zimbabwe   277.0  2022     6.0      0.375   \n",
       "\n",
       "        Total_Vaccinations  Vaccinated   Fully_Vaccinated  \n",
       "0                      NaN         NaN                NaN  \n",
       "1                      NaN         NaN                NaN  \n",
       "2                      NaN         NaN                NaN  \n",
       "3                      NaN         NaN                NaN  \n",
       "4                      NaN         NaN                NaN  \n",
       "...                    ...         ...                ...  \n",
       "129151          11949993.0   6297324.0          4601845.0  \n",
       "129152          11958771.0   6299348.0          4605821.0  \n",
       "129153                 NaN         NaN                NaN  \n",
       "129154          11974313.0   6305470.0          4611113.0  \n",
       "129155          11984914.0   6310089.0          4614738.0  \n",
       "\n",
       "[129156 rows x 9 columns]"
      ]
     },
     "execution_count": 90,
     "metadata": {},
     "output_type": "execute_result"
    }
   ],
   "source": [
    "d_t"
   ]
  },
  {
   "cell_type": "code",
   "execution_count": 91,
   "id": "e47bc535",
   "metadata": {},
   "outputs": [],
   "source": [
    "df = d_t.replace(np.nan, 0)"
   ]
  },
  {
   "cell_type": "code",
   "execution_count": 92,
   "id": "b94eb719",
   "metadata": {},
   "outputs": [
    {
     "data": {
      "text/html": [
       "<div>\n",
       "<style scoped>\n",
       "    .dataframe tbody tr th:only-of-type {\n",
       "        vertical-align: middle;\n",
       "    }\n",
       "\n",
       "    .dataframe tbody tr th {\n",
       "        vertical-align: top;\n",
       "    }\n",
       "\n",
       "    .dataframe thead th {\n",
       "        text-align: right;\n",
       "    }\n",
       "</style>\n",
       "<table border=\"1\" class=\"dataframe\">\n",
       "  <thead>\n",
       "    <tr style=\"text-align: right;\">\n",
       "      <th></th>\n",
       "      <th>Id</th>\n",
       "      <th>Location</th>\n",
       "      <th>Cases</th>\n",
       "      <th>Year</th>\n",
       "      <th>Deaths</th>\n",
       "      <th>Mortality</th>\n",
       "      <th>Total_Vaccinations</th>\n",
       "      <th>Vaccinated</th>\n",
       "      <th>Fully_Vaccinated</th>\n",
       "    </tr>\n",
       "  </thead>\n",
       "  <tbody>\n",
       "    <tr>\n",
       "      <th>0</th>\n",
       "      <td>911530868</td>\n",
       "      <td>World</td>\n",
       "      <td>2372.0</td>\n",
       "      <td>2020</td>\n",
       "      <td>65.0</td>\n",
       "      <td>0.008</td>\n",
       "      <td>0.0</td>\n",
       "      <td>0.0</td>\n",
       "      <td>0.0</td>\n",
       "    </tr>\n",
       "    <tr>\n",
       "      <th>1</th>\n",
       "      <td>807936902</td>\n",
       "      <td>World</td>\n",
       "      <td>5023.0</td>\n",
       "      <td>2020</td>\n",
       "      <td>114.0</td>\n",
       "      <td>0.014</td>\n",
       "      <td>0.0</td>\n",
       "      <td>0.0</td>\n",
       "      <td>0.0</td>\n",
       "    </tr>\n",
       "    <tr>\n",
       "      <th>2</th>\n",
       "      <td>773590408</td>\n",
       "      <td>World</td>\n",
       "      <td>5612.0</td>\n",
       "      <td>2020</td>\n",
       "      <td>116.0</td>\n",
       "      <td>0.015</td>\n",
       "      <td>0.0</td>\n",
       "      <td>0.0</td>\n",
       "      <td>0.0</td>\n",
       "    </tr>\n",
       "    <tr>\n",
       "      <th>3</th>\n",
       "      <td>130466459</td>\n",
       "      <td>World</td>\n",
       "      <td>7580.0</td>\n",
       "      <td>2020</td>\n",
       "      <td>153.0</td>\n",
       "      <td>0.019</td>\n",
       "      <td>0.0</td>\n",
       "      <td>0.0</td>\n",
       "      <td>0.0</td>\n",
       "    </tr>\n",
       "    <tr>\n",
       "      <th>4</th>\n",
       "      <td>544040446</td>\n",
       "      <td>World</td>\n",
       "      <td>8983.0</td>\n",
       "      <td>2020</td>\n",
       "      <td>187.0</td>\n",
       "      <td>0.024</td>\n",
       "      <td>0.0</td>\n",
       "      <td>0.0</td>\n",
       "      <td>0.0</td>\n",
       "    </tr>\n",
       "    <tr>\n",
       "      <th>...</th>\n",
       "      <td>...</td>\n",
       "      <td>...</td>\n",
       "      <td>...</td>\n",
       "      <td>...</td>\n",
       "      <td>...</td>\n",
       "      <td>...</td>\n",
       "      <td>...</td>\n",
       "      <td>...</td>\n",
       "      <td>...</td>\n",
       "    </tr>\n",
       "    <tr>\n",
       "      <th>129151</th>\n",
       "      <td>541829605</td>\n",
       "      <td>Zimbabwe</td>\n",
       "      <td>464.0</td>\n",
       "      <td>2022</td>\n",
       "      <td>13.0</td>\n",
       "      <td>0.813</td>\n",
       "      <td>11949993.0</td>\n",
       "      <td>6297324.0</td>\n",
       "      <td>4601845.0</td>\n",
       "    </tr>\n",
       "    <tr>\n",
       "      <th>129152</th>\n",
       "      <td>969939474</td>\n",
       "      <td>Zimbabwe</td>\n",
       "      <td>471.0</td>\n",
       "      <td>2022</td>\n",
       "      <td>12.0</td>\n",
       "      <td>0.750</td>\n",
       "      <td>11958771.0</td>\n",
       "      <td>6299348.0</td>\n",
       "      <td>4605821.0</td>\n",
       "    </tr>\n",
       "    <tr>\n",
       "      <th>129153</th>\n",
       "      <td>667902340</td>\n",
       "      <td>Zimbabwe</td>\n",
       "      <td>450.0</td>\n",
       "      <td>2022</td>\n",
       "      <td>13.0</td>\n",
       "      <td>0.813</td>\n",
       "      <td>0.0</td>\n",
       "      <td>0.0</td>\n",
       "      <td>0.0</td>\n",
       "    </tr>\n",
       "    <tr>\n",
       "      <th>129154</th>\n",
       "      <td>961193720</td>\n",
       "      <td>Zimbabwe</td>\n",
       "      <td>277.0</td>\n",
       "      <td>2022</td>\n",
       "      <td>6.0</td>\n",
       "      <td>0.375</td>\n",
       "      <td>11974313.0</td>\n",
       "      <td>6305470.0</td>\n",
       "      <td>4611113.0</td>\n",
       "    </tr>\n",
       "    <tr>\n",
       "      <th>129155</th>\n",
       "      <td>832612563</td>\n",
       "      <td>Zimbabwe</td>\n",
       "      <td>277.0</td>\n",
       "      <td>2022</td>\n",
       "      <td>6.0</td>\n",
       "      <td>0.375</td>\n",
       "      <td>11984914.0</td>\n",
       "      <td>6310089.0</td>\n",
       "      <td>4614738.0</td>\n",
       "    </tr>\n",
       "  </tbody>\n",
       "</table>\n",
       "<p>129156 rows × 9 columns</p>\n",
       "</div>"
      ],
      "text/plain": [
       "               Id  Location   Cases  Year  Deaths  Mortality  \\\n",
       "0       911530868     World  2372.0  2020    65.0      0.008   \n",
       "1       807936902     World  5023.0  2020   114.0      0.014   \n",
       "2       773590408     World  5612.0  2020   116.0      0.015   \n",
       "3       130466459     World  7580.0  2020   153.0      0.019   \n",
       "4       544040446     World  8983.0  2020   187.0      0.024   \n",
       "...           ...       ...     ...   ...     ...        ...   \n",
       "129151  541829605  Zimbabwe   464.0  2022    13.0      0.813   \n",
       "129152  969939474  Zimbabwe   471.0  2022    12.0      0.750   \n",
       "129153  667902340  Zimbabwe   450.0  2022    13.0      0.813   \n",
       "129154  961193720  Zimbabwe   277.0  2022     6.0      0.375   \n",
       "129155  832612563  Zimbabwe   277.0  2022     6.0      0.375   \n",
       "\n",
       "        Total_Vaccinations  Vaccinated   Fully_Vaccinated  \n",
       "0                      0.0         0.0                0.0  \n",
       "1                      0.0         0.0                0.0  \n",
       "2                      0.0         0.0                0.0  \n",
       "3                      0.0         0.0                0.0  \n",
       "4                      0.0         0.0                0.0  \n",
       "...                    ...         ...                ...  \n",
       "129151          11949993.0   6297324.0          4601845.0  \n",
       "129152          11958771.0   6299348.0          4605821.0  \n",
       "129153                 0.0         0.0                0.0  \n",
       "129154          11974313.0   6305470.0          4611113.0  \n",
       "129155          11984914.0   6310089.0          4614738.0  \n",
       "\n",
       "[129156 rows x 9 columns]"
      ]
     },
     "execution_count": 92,
     "metadata": {},
     "output_type": "execute_result"
    }
   ],
   "source": [
    "df"
   ]
  },
  {
   "cell_type": "code",
   "execution_count": 93,
   "id": "fe4296ba",
   "metadata": {},
   "outputs": [
    {
     "name": "stdout",
     "output_type": "stream",
     "text": [
      "Id                      int64\n",
      "Location               object\n",
      "Cases                 float64\n",
      "Year                    int64\n",
      "Deaths                float64\n",
      "Mortality             float64\n",
      "Total_Vaccinations    float64\n",
      "Vaccinated            float64\n",
      " Fully_Vaccinated     float64\n",
      "dtype: object\n"
     ]
    }
   ],
   "source": [
    "print(df.dtypes)"
   ]
  },
  {
   "cell_type": "code",
   "execution_count": 94,
   "id": "85e58208",
   "metadata": {},
   "outputs": [],
   "source": [
    "cols_to_check = ['Vaccinated', ' Fully_Vaccinated', 'Total_Vaccinations']\n",
    "rows_to_delete = df[df[cols_to_check].isin([0.0])].dropna(how='all').index\n",
    "df = df.drop(rows_to_delete)\n"
   ]
  },
  {
   "cell_type": "code",
   "execution_count": 95,
   "id": "1ab99cf7",
   "metadata": {
    "scrolled": true
   },
   "outputs": [],
   "source": [
    "def map_numbers(x):\n",
    "    if x <= 5.0:\n",
    "        return 0\n",
    "    elif x <= 10.0:\n",
    "        return 1\n",
    "    elif x <= 45:\n",
    "        return 2\n",
    "    elif x <= 50:\n",
    "        return 3\n",
    "    elif x <= 65:\n",
    "        return 4\n",
    "\n",
    "    else:\n",
    "        return -1\n",
    "\n",
    "# apply the mapping function to the 'numbers' column\n",
    "df['Mortality'] = df['Mortality'].apply(map_numbers)\n",
    "\n"
   ]
  },
  {
   "cell_type": "code",
   "execution_count": 96,
   "id": "19524213",
   "metadata": {},
   "outputs": [],
   "source": [
    "#df.tail(60)"
   ]
  },
  {
   "cell_type": "code",
   "execution_count": 97,
   "id": "1b72f112",
   "metadata": {},
   "outputs": [
    {
     "data": {
      "text/html": [
       "<div>\n",
       "<style scoped>\n",
       "    .dataframe tbody tr th:only-of-type {\n",
       "        vertical-align: middle;\n",
       "    }\n",
       "\n",
       "    .dataframe tbody tr th {\n",
       "        vertical-align: top;\n",
       "    }\n",
       "\n",
       "    .dataframe thead th {\n",
       "        text-align: right;\n",
       "    }\n",
       "</style>\n",
       "<table border=\"1\" class=\"dataframe\">\n",
       "  <thead>\n",
       "    <tr style=\"text-align: right;\">\n",
       "      <th></th>\n",
       "      <th>Cases</th>\n",
       "      <th>Deaths</th>\n",
       "      <th>Total_Vaccinations</th>\n",
       "      <th>Vaccinated</th>\n",
       "      <th>Fully_Vaccinated</th>\n",
       "    </tr>\n",
       "  </thead>\n",
       "  <tbody>\n",
       "    <tr>\n",
       "      <th>231</th>\n",
       "      <td>4401227.0</td>\n",
       "      <td>78095.0</td>\n",
       "      <td>35647.0</td>\n",
       "      <td>29152.0</td>\n",
       "      <td>7425.0</td>\n",
       "    </tr>\n",
       "    <tr>\n",
       "      <th>232</th>\n",
       "      <td>4417781.0</td>\n",
       "      <td>78496.0</td>\n",
       "      <td>40330.0</td>\n",
       "      <td>33668.0</td>\n",
       "      <td>7565.0</td>\n",
       "    </tr>\n",
       "    <tr>\n",
       "      <th>233</th>\n",
       "      <td>4487887.0</td>\n",
       "      <td>80910.0</td>\n",
       "      <td>1779065.0</td>\n",
       "      <td>266515.0</td>\n",
       "      <td>8318.0</td>\n",
       "    </tr>\n",
       "    <tr>\n",
       "      <th>234</th>\n",
       "      <td>4554209.0</td>\n",
       "      <td>81609.0</td>\n",
       "      <td>2057367.0</td>\n",
       "      <td>538177.0</td>\n",
       "      <td>9091.0</td>\n",
       "    </tr>\n",
       "    <tr>\n",
       "      <th>235</th>\n",
       "      <td>4555265.0</td>\n",
       "      <td>81866.0</td>\n",
       "      <td>2664507.0</td>\n",
       "      <td>1132176.0</td>\n",
       "      <td>11428.0</td>\n",
       "    </tr>\n",
       "    <tr>\n",
       "      <th>...</th>\n",
       "      <td>...</td>\n",
       "      <td>...</td>\n",
       "      <td>...</td>\n",
       "      <td>...</td>\n",
       "      <td>...</td>\n",
       "    </tr>\n",
       "    <tr>\n",
       "      <th>129149</th>\n",
       "      <td>554.0</td>\n",
       "      <td>15.0</td>\n",
       "      <td>11945534.0</td>\n",
       "      <td>6296280.0</td>\n",
       "      <td>4599476.0</td>\n",
       "    </tr>\n",
       "    <tr>\n",
       "      <th>129151</th>\n",
       "      <td>464.0</td>\n",
       "      <td>13.0</td>\n",
       "      <td>11949993.0</td>\n",
       "      <td>6297324.0</td>\n",
       "      <td>4601845.0</td>\n",
       "    </tr>\n",
       "    <tr>\n",
       "      <th>129152</th>\n",
       "      <td>471.0</td>\n",
       "      <td>12.0</td>\n",
       "      <td>11958771.0</td>\n",
       "      <td>6299348.0</td>\n",
       "      <td>4605821.0</td>\n",
       "    </tr>\n",
       "    <tr>\n",
       "      <th>129154</th>\n",
       "      <td>277.0</td>\n",
       "      <td>6.0</td>\n",
       "      <td>11974313.0</td>\n",
       "      <td>6305470.0</td>\n",
       "      <td>4611113.0</td>\n",
       "    </tr>\n",
       "    <tr>\n",
       "      <th>129155</th>\n",
       "      <td>277.0</td>\n",
       "      <td>6.0</td>\n",
       "      <td>11984914.0</td>\n",
       "      <td>6310089.0</td>\n",
       "      <td>4614738.0</td>\n",
       "    </tr>\n",
       "  </tbody>\n",
       "</table>\n",
       "<p>35220 rows × 5 columns</p>\n",
       "</div>"
      ],
      "text/plain": [
       "            Cases   Deaths  Total_Vaccinations  Vaccinated   Fully_Vaccinated\n",
       "231     4401227.0  78095.0             35647.0     29152.0             7425.0\n",
       "232     4417781.0  78496.0             40330.0     33668.0             7565.0\n",
       "233     4487887.0  80910.0           1779065.0    266515.0             8318.0\n",
       "234     4554209.0  81609.0           2057367.0    538177.0             9091.0\n",
       "235     4555265.0  81866.0           2664507.0   1132176.0            11428.0\n",
       "...           ...      ...                 ...         ...                ...\n",
       "129149      554.0     15.0          11945534.0   6296280.0          4599476.0\n",
       "129151      464.0     13.0          11949993.0   6297324.0          4601845.0\n",
       "129152      471.0     12.0          11958771.0   6299348.0          4605821.0\n",
       "129154      277.0      6.0          11974313.0   6305470.0          4611113.0\n",
       "129155      277.0      6.0          11984914.0   6310089.0          4614738.0\n",
       "\n",
       "[35220 rows x 5 columns]"
      ]
     },
     "execution_count": 97,
     "metadata": {},
     "output_type": "execute_result"
    }
   ],
   "source": [
    "x = df[['Cases','Deaths','Total_Vaccinations','Vaccinated',' Fully_Vaccinated']]\n",
    "x.shape\n",
    "x"
   ]
  },
  {
   "cell_type": "code",
   "execution_count": 98,
   "id": "b1d3005d",
   "metadata": {},
   "outputs": [
    {
     "data": {
      "text/plain": [
       "(35220, 1)"
      ]
     },
     "execution_count": 98,
     "metadata": {},
     "output_type": "execute_result"
    }
   ],
   "source": [
    "y = df[['Mortality']]\n",
    "y.shape"
   ]
  },
  {
   "cell_type": "code",
   "execution_count": 99,
   "id": "9c3be142",
   "metadata": {},
   "outputs": [],
   "source": [
    "def round_decimal(x):\n",
    "    decimal_part = x - int(x)\n",
    "    if decimal_part > 0.5:\n",
    "        return int(x) + 1\n",
    "    else:\n",
    "        return int(x)\n",
    "\n",
    "# apply the lambda function to the 'my_column' column\n",
    "y['Mortality'] = y['Mortality'].apply(lambda x: round_decimal(x))"
   ]
  },
  {
   "cell_type": "code",
   "execution_count": 100,
   "id": "d1001020",
   "metadata": {},
   "outputs": [
    {
     "data": {
      "text/plain": [
       "(35220, 1)"
      ]
     },
     "execution_count": 100,
     "metadata": {},
     "output_type": "execute_result"
    }
   ],
   "source": [
    "x_a=np.array(x)\n",
    "y_b=np.array(y)\n",
    "\n",
    "y_b.shape"
   ]
  },
  {
   "cell_type": "code",
   "execution_count": 101,
   "id": "0f2f8e06",
   "metadata": {},
   "outputs": [],
   "source": [
    "from sklearn.preprocessing import StandardScaler\n",
    "s_c=StandardScaler()\n",
    "sc_x =s_c.fit_transform(x_a)"
   ]
  },
  {
   "cell_type": "code",
   "execution_count": 102,
   "id": "42c7cfb9",
   "metadata": {},
   "outputs": [
    {
     "data": {
      "text/plain": [
       "(35220, 5)"
      ]
     },
     "execution_count": 102,
     "metadata": {},
     "output_type": "execute_result"
    }
   ],
   "source": [
    "sc_x.shape"
   ]
  },
  {
   "cell_type": "code",
   "execution_count": 103,
   "id": "79573d02",
   "metadata": {},
   "outputs": [],
   "source": [
    "from sklearn.model_selection import train_test_split\n",
    "x_train, x_test, y_train, y_test = train_test_split(sc_x,y_b, test_size = 0.2, random_state=42)"
   ]
  },
  {
   "cell_type": "code",
   "execution_count": 104,
   "id": "2d197eba",
   "metadata": {},
   "outputs": [],
   "source": [
    "# y_test = np.squeeze(y_test)\n",
    "#_test.shape\n",
    "#_test.shape\n"
   ]
  },
  {
   "cell_type": "code",
   "execution_count": 105,
   "id": "e4f41c1e",
   "metadata": {},
   "outputs": [],
   "source": [
    "# from sklearn.neighbors import KNeighborsRegressor\n",
    "# from sklearn.cluster import KMeans  \n",
    "# from sklearn.linear_model import LinearRegression\n",
    "# from sklearn.metrics import mean_squared_error\n",
    "# from sklearn.linear_model import SGDRegressor"
   ]
  },
  {
   "cell_type": "code",
   "execution_count": 106,
   "id": "ff331d7a",
   "metadata": {},
   "outputs": [
    {
     "data": {
      "text/plain": [
       "RandomForestClassifier()"
      ]
     },
     "execution_count": 106,
     "metadata": {},
     "output_type": "execute_result"
    }
   ],
   "source": [
    "from sklearn.ensemble import RandomForestClassifier\n",
    "forest= RandomForestClassifier()\n",
    "forest.fit(x_train,y_train)\n",
    "\n"
   ]
  },
  {
   "cell_type": "code",
   "execution_count": 107,
   "id": "ffa7df40",
   "metadata": {},
   "outputs": [],
   "source": [
    "# print(automl.best_config)\n",
    "# print(automl.best_estimator)"
   ]
  },
  {
   "cell_type": "code",
   "execution_count": 108,
   "id": "e3a8d922",
   "metadata": {},
   "outputs": [
    {
     "name": "stdout",
     "output_type": "stream",
     "text": [
      "R2 Score: -0.6561730166497339\n"
     ]
    }
   ],
   "source": [
    "y_pred = forest.predict(x)\n",
    "from sklearn.metrics import r2_score\n",
    "\n",
    "score = r2_score(y, y_pred)\n",
    "print(\"R2 Score:\", score)"
   ]
  },
  {
   "cell_type": "code",
   "execution_count": 109,
   "id": "491ff242",
   "metadata": {},
   "outputs": [
    {
     "data": {
      "text/plain": [
       "array([1, 0, 0, ..., 3, 0, 0], dtype=int64)"
      ]
     },
     "execution_count": 109,
     "metadata": {},
     "output_type": "execute_result"
    }
   ],
   "source": [
    "y_pred = forest.predict(x_test)\n",
    "# y_pred = np.argmax(y_pred,axis=1)\n",
    "y_pred"
   ]
  },
  {
   "cell_type": "code",
   "execution_count": 110,
   "id": "ceedbb1e",
   "metadata": {},
   "outputs": [
    {
     "name": "stdout",
     "output_type": "stream",
     "text": [
      "TRAIN  accuracy_score: 100.0\n"
     ]
    }
   ],
   "source": [
    "from sklearn.metrics import accuracy_score,classification_report\n",
    "print(\"TRAIN  accuracy_score:\", forest.score(x_train,y_train)*100)\n",
    "\n",
    "# y_pred = forest.predict(x_train)\n",
    "# print(y_pred.shape, y_pred.dtype)\n",
    "# train_accuracy = accuracy_score(y_train,y_pred)\n",
    "# print(\"TRAIN accuracy_score:\", train_accuracy*100)"
   ]
  },
  {
   "cell_type": "code",
   "execution_count": 111,
   "id": "196f1bab",
   "metadata": {},
   "outputs": [],
   "source": [
    "#y_pred.shape\n",
    "#y_test.shape"
   ]
  },
  {
   "cell_type": "code",
   "execution_count": 112,
   "id": "def1d469",
   "metadata": {},
   "outputs": [
    {
     "name": "stdout",
     "output_type": "stream",
     "text": [
      "TEST accuracy_score: 94.534355479841\n"
     ]
    }
   ],
   "source": [
    "\n",
    "print(\"TEST accuracy_score:\", accuracy_score(y_pred,y_test)*100)\n"
   ]
  },
  {
   "cell_type": "code",
   "execution_count": 113,
   "id": "6a72370b",
   "metadata": {
    "scrolled": true
   },
   "outputs": [
    {
     "name": "stdout",
     "output_type": "stream",
     "text": [
      "[[ 294    0    2   11    1   14]\n",
      " [   1 3009   54   27    0    1]\n",
      " [   1   35  935   23    1    0]\n",
      " [  13   27   66 2179   36   23]\n",
      " [   1    0    0   10   65    8]\n",
      " [  15    0    2    5    8  177]]\n"
     ]
    }
   ],
   "source": [
    "from sklearn.metrics import confusion_matrix\n",
    "cf_matrix = confusion_matrix(y_pred,y_test)\n",
    "print(cf_matrix)"
   ]
  },
  {
   "cell_type": "code",
   "execution_count": 114,
   "id": "56fac7f0",
   "metadata": {},
   "outputs": [
    {
     "name": "stdout",
     "output_type": "stream",
     "text": [
      "              precision    recall  f1-score   support\n",
      "\n",
      "          -1       0.90      0.91      0.91       322\n",
      "           0       0.98      0.97      0.98      3092\n",
      "           1       0.88      0.94      0.91       995\n",
      "           2       0.97      0.93      0.95      2344\n",
      "           3       0.59      0.77      0.67        84\n",
      "           4       0.79      0.86      0.82       207\n",
      "\n",
      "    accuracy                           0.95      7044\n",
      "   macro avg       0.85      0.90      0.87      7044\n",
      "weighted avg       0.95      0.95      0.95      7044\n",
      "\n"
     ]
    }
   ],
   "source": [
    "print(classification_report(y_pred,y_test))"
   ]
  },
  {
   "cell_type": "code",
   "execution_count": 115,
   "id": "fa92c3c1",
   "metadata": {},
   "outputs": [
    {
     "data": {
      "image/png": "[encoded data removed]",
      "text/plain": [
       "<Figure size 800x550 with 2 Axes>"
      ]
     },
     "metadata": {},
     "output_type": "display_data"
    },
    {
     "data": {
      "text/plain": [
       "<Axes: title={'center': 'RandomForestClassifier Classification Report'}>"
      ]
     },
     "execution_count": 115,
     "metadata": {},
     "output_type": "execute_result"
    }
   ],
   "source": [
    "from yellowbrick.classifier import ClassificationReport\n",
    "visualizer = ClassificationReport(forest,support=True)\n",
    "visualizer.fit(x_train, y_train) \n",
    "visualizer.score(x_test, y_test) \n",
    "visualizer.show() "
   ]
  },
  {
   "cell_type": "code",
   "execution_count": 116,
   "id": "85d610a2",
   "metadata": {},
   "outputs": [
    {
     "data": {
      "text/plain": [
       "Text(0.5, 1.0, 'confusion_matrix')"
      ]
     },
     "execution_count": 116,
     "metadata": {},
     "output_type": "execute_result"
    },
    {
     "data": {
      "image/png": "[encoded data removed]",
      "text/plain": [
       "<Figure size 1000x600 with 2 Axes>"
      ]
     },
     "metadata": {},
     "output_type": "display_data"
    }
   ],
   "source": [
    "import seaborn as sns\n",
    "import matplotlib.pyplot as plt\n",
    "plt.rcParams['figure.figsize'] = (10.0, 6.0)\n",
    "from sklearn.metrics import confusion_matrix\n",
    "cfm = confusion_matrix(y_pred, y_test)\n",
    "sns.heatmap(cfm, cmap='RdPu', annot=True, fmt='.0f')\n",
    "plt.title('confusion_matrix')"
   ]
  },
  {
   "cell_type": "code",
   "execution_count": 117,
   "id": "29cc03dc",
   "metadata": {},
   "outputs": [
    {
     "data": {
      "text/plain": [
       "Text(0.5, 1.0, 'y_pred')"
      ]
     },
     "execution_count": 117,
     "metadata": {},
     "output_type": "execute_result"
    },
    {
     "data": {
      "image/png": "[encoded data removed]",
      "text/plain": [
       "<Figure size 500x500 with 2 Axes>"
      ]
     },
     "metadata": {},
     "output_type": "display_data"
    }
   ],
   "source": [
    "sns.set_style(\"darkgrid\")\n",
    "plt.figure(figsize=(5,5))\n",
    "plt.subplot(1,2,1)\n",
    "sns.distplot(y_test,color='r')\n",
    "plt.title('y_test')\n",
    "\n",
    "sns.set_style(\"darkgrid\")\n",
    "plt.subplot(1,2,2)\n",
    "sns.distplot(y_pred,color='g')\n",
    "plt.title('y_pred')"
   ]
  },
  {
   "cell_type": "code",
   "execution_count": 118,
   "id": "387e2ae9",
   "metadata": {},
   "outputs": [
    {
     "data": {
      "text/plain": [
       "Text(0.5, 1.0, 'x_test')"
      ]
     },
     "execution_count": 118,
     "metadata": {},
     "output_type": "execute_result"
    },
    {
     "data": {
      "image/png": "[encoded data removed]",
      "text/plain": [
       "<Figure size 500x500 with 2 Axes>"
      ]
     },
     "metadata": {},
     "output_type": "display_data"
    }
   ],
   "source": [
    "sns.set_style(\"darkgrid\")\n",
    "plt.figure(figsize=(5,5))\n",
    "plt.subplot(1,2,1)\n",
    "sns.distplot(x_train,color='r')\n",
    "plt.title('x_train')\n",
    "\n",
    "sns.set_style(\"darkgrid\")\n",
    "plt.subplot(1,2,2)\n",
    "sns.distplot(x_test,color='g')\n",
    "plt.title('x_test')"
   ]
  },
  {
   "cell_type": "code",
   "execution_count": 119,
   "id": "022cb32f",
   "metadata": {},
   "outputs": [
    {
     "data": {
      "text/plain": [
       "RandomForestClassifier()"
      ]
     },
     "execution_count": 119,
     "metadata": {},
     "output_type": "execute_result"
    }
   ],
   "source": [
    "import pickle\n",
    "pickle.dump(forest, open(\"code.pkl\",\"wb\"))\n",
    "pickle.load(open(\"code.pkl\", \"rb\"))\n"
   ]
  },
  {
   "cell_type": "code",
   "execution_count": 120,
   "id": "97acf592",
   "metadata": {},
   "outputs": [],
   "source": [
    "# from joblib import dump\n",
    "# dump(forest, filename=\"deploye.joblib\")"
   ]
  },
  {
   "cell_type": "code",
   "execution_count": 121,
   "id": "4ff9f4ca",
   "metadata": {},
   "outputs": [],
   "source": [
    "# from joblib import load\n",
    "# forest = load(\"deploye.joblib\")"
   ]
  },
  {
   "cell_type": "code",
   "execution_count": null,
   "id": "87ab6d37",
   "metadata": {},
   "outputs": [],
   "source": []
  },
  {
   "cell_type": "code",
   "execution_count": null,
   "id": "4d980700",
   "metadata": {},
   "outputs": [],
   "source": []
  },
  {
   "cell_type": "code",
   "execution_count": null,
   "id": "0fa0c5b9",
   "metadata": {},
   "outputs": [],
   "source": []
  },
  {
   "cell_type": "code",
   "execution_count": null,
   "id": "38271160",
   "metadata": {},
   "outputs": [],
   "source": []
  },
  {
   "cell_type": "code",
   "execution_count": null,
   "id": "5f154880",
   "metadata": {},
   "outputs": [],
   "source": []
  },
  {
   "cell_type": "code",
   "execution_count": null,
   "id": "1821e6f1",
   "metadata": {},
   "outputs": [],
   "source": []
  }
 ],
 "metadata": {
  "kernelspec": {
   "display_name": "Python 3 (ipykernel)",
   "language": "python",
   "name": "python3"
  },
  "language_info": {
   "codemirror_mode": {
    "name": "ipython",
    "version": 3
   },
   "file_extension": ".py",
   "mimetype": "text/x-python",
   "name": "python",
   "nbconvert_exporter": "python",
   "pygments_lexer": "ipython3",
   "version": "3.8.18"
  }
 },
 "nbformat": 4,
 "nbformat_minor": 5
}
